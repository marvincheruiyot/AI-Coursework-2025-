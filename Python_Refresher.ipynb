{
 "cells": [
  {
   "cell_type": "markdown",
   "id": "a2366524",
   "metadata": {},
   "source": [
    "# 1.Write a program that asks the user for a number of days. The program then prints out the number of seconds in the amount of days given."
   ]
  },
  {
   "cell_type": "code",
   "execution_count": 1,
   "id": "f5ede3b8",
   "metadata": {},
   "outputs": [
    {
     "name": "stdout",
     "output_type": "stream",
     "text": [
      "There are 864000 seconds in 10 days\n"
     ]
    }
   ],
   "source": [
    "# Ask the user to input the number of days\n",
    "days = int(input(\"Enter the number of days: \"))\n",
    "\n",
    "# One day has 24 hours, one hour has 60 minutes, and one minute has 60 seconds\n",
    "seconds = days * 24 * 60 * 60\n",
    "\n",
    "# Print the result\n",
    "print(f\"There are {seconds} seconds in {days} days\")\n"
   ]
  },
  {
   "cell_type": "markdown",
   "id": "52b21395",
   "metadata": {},
   "source": [
    "# 2.Write a program that asks a user to input the radius then the program calculates the volume of a sphere (the formula for the volume is (4/3)πr3). Use the exponential operator in python to compute (r3)."
   ]
  },
  {
   "cell_type": "code",
   "execution_count": 4,
   "id": "f3e011b5",
   "metadata": {},
   "outputs": [
    {
     "name": "stdout",
     "output_type": "stream",
     "text": [
      "The volume of the sphere with radius 12.0 is 7239.168\n"
     ]
    }
   ],
   "source": [
    "# Ask the user to input the radius\n",
    "radius = float(input(\"Enter the radius of the sphere: \"))\n",
    "\n",
    "# Use pi as 3.142\n",
    "pi = 3.142\n",
    "\n",
    "# Calculate the volume\n",
    "volume = (4/3) * pi * (radius ** 3)\n",
    "\n",
    "# Print the result\n",
    "print(f\"The volume of the sphere with radius {radius} is {volume}\")\n",
    "\n"
   ]
  },
  {
   "cell_type": "markdown",
   "id": "3975fee6",
   "metadata": {},
   "source": [
    "# 3.Using functions, write a program to compute the area and perimeter of a square. The program should ask the user to enter a number corresponding to the side length of the square and display the area and perimeter of the square.\n"
   ]
  },
  {
   "cell_type": "code",
   "execution_count": 5,
   "id": "dd4c8e17",
   "metadata": {},
   "outputs": [
    {
     "name": "stdout",
     "output_type": "stream",
     "text": [
      "The area of the square is: 100.0\n",
      "The perimeter of the square is: 40.0\n"
     ]
    }
   ],
   "source": [
    "# Define functions\n",
    "def find_area(length):\n",
    "    return length ** 2\n",
    "\n",
    "def find_perimeter(length):\n",
    "    return 4 * length\n",
    "\n",
    "# Ask user for side length\n",
    "length = float(input(\"Enter the length of the square: \"))\n",
    "\n",
    "# Print results\n",
    "print(f\"The area of the square is: {find_area(length)}\")\n",
    "print(f\"The perimeter of the square is: {find_perimeter(length)}\")"
   ]
  },
  {
   "cell_type": "markdown",
   "id": "da6986d3",
   "metadata": {},
   "source": [
    "# 4.Write a program using functions that determines whether a character input by a user is uppercase or lower case."
   ]
  },
  {
   "cell_type": "code",
   "execution_count": 6,
   "id": "585dc427",
   "metadata": {},
   "outputs": [
    {
     "name": "stdout",
     "output_type": "stream",
     "text": [
      "The character 'h' is lowercase.\n"
     ]
    }
   ],
   "source": [
    "# Define function\n",
    "def check_case(character):\n",
    "    if character.isupper():\n",
    "        return \"uppercase\"\n",
    "    elif character.islower():\n",
    "        return \"lowercase\"\n",
    "    else:\n",
    "        return \"not a letter, please enter a letter!\"\n",
    "\n",
    "# Ask user for input\n",
    "character = input(\"Enter a character: \")\n",
    "\n",
    "# Display result\n",
    "print(f\"The character '{character}' is {check_case(character)}.\")\n",
    "\n"
   ]
  },
  {
   "cell_type": "markdown",
   "id": "da27ae88",
   "metadata": {},
   "source": [
    "# 5.The following is pseudocode for a program being designed. Write the Python program equivalent of the same.\n"
   ]
  },
  {
   "cell_type": "code",
   "execution_count": 7,
   "id": "a3c82192",
   "metadata": {},
   "outputs": [
    {
     "name": "stdout",
     "output_type": "stream",
     "text": [
      "Final value of x: 1.0416666666666665\n"
     ]
    }
   ],
   "source": [
    "# Translation of pseudocode into Python\n",
    "\n",
    "x = 0\n",
    "y = 20\n",
    "\n",
    "# Loop until y < 6\n",
    "while y >= 6:\n",
    "    y = y - 4 \n",
    "    x = x + (2 / y)   \n",
    "\n",
    "# Print the result\n",
    "print(\"Final value of x:\", x)"
   ]
  },
  {
   "cell_type": "markdown",
   "id": "d4b42a1f",
   "metadata": {},
   "source": [
    "# 6.Write a Python program that does the following:\n",
    "#   • Uses a loop for a user to continually input 5 values to populate an array.\n",
    "#   • Calculates and displays the average of the values input into the array.\n"
   ]
  },
  {
   "cell_type": "code",
   "execution_count": 8,
   "id": "1ab75970",
   "metadata": {},
   "outputs": [
    {
     "name": "stdout",
     "output_type": "stream",
     "text": [
      "The average of the 5 values is: 30.00\n"
     ]
    }
   ],
   "source": [
    "# Initialize empty list\n",
    "numbers = []\n",
    "\n",
    "# Loop to get 5 values\n",
    "for i in range(5):\n",
    "    value = float(input(f\"Enter value {i+1}: \"))\n",
    "    numbers.append(value)\n",
    "\n",
    "# Calculate average\n",
    "average = sum(numbers) / len(numbers)\n",
    "\n",
    "# Display result\n",
    "print(f\"The average of the 5 values is: {average:.2f}\")\n"
   ]
  }
 ],
 "metadata": {
  "kernelspec": {
   "display_name": "Python 3",
   "language": "python",
   "name": "python3"
  },
  "language_info": {
   "codemirror_mode": {
    "name": "ipython",
    "version": 3
   },
   "file_extension": ".py",
   "mimetype": "text/x-python",
   "name": "python",
   "nbconvert_exporter": "python",
   "pygments_lexer": "ipython3",
   "version": "3.13.7"
  }
 },
 "nbformat": 4,
 "nbformat_minor": 5
}
