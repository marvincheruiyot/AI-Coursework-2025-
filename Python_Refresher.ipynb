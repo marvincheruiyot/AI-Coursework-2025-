{
 "cells": [
  {
   "cell_type": "markdown",
   "id": "dea2dc12",
   "metadata": {},
   "source": [
    "#166907 - Ryan Kimutai - Practice Exercise 1"
   ]
  },
  {
   "cell_type": "markdown",
   "id": "a2366524",
   "metadata": {},
   "source": [
    "# 1.Write a program that asks the user for a number of days. The program then prints out the number of seconds in the amount of days given."
   ]
  },
  {
   "cell_type": "code",
   "execution_count": 1,
   "id": "f5ede3b8",
   "metadata": {},
   "outputs": [
    {
     "name": "stdout",
     "output_type": "stream",
     "text": [
      "20 days = 1728000 seconds\n"
     ]
    }
   ],
   "source": [
    "#A program for converting days into seconds\n",
    "# Prompt user for number of days\n",
    "days = int(input(\"Enter number of days: \"))\n",
    "\n",
    "# Convert days entered to seconds\n",
    "seconds = days * 24 * 60 * 60\n",
    "\n",
    "# Print the result\n",
    "print(f\"{days} days = {seconds} seconds\")\n"
   ]
  },
  {
   "cell_type": "markdown",
   "id": "52b21395",
   "metadata": {},
   "source": [
    "# 2.Write a program that asks a user to input the radius then the program calculates the volume of a sphere (the formula for the volume is (4/3)πr3). Use the exponential operator in python to compute (r3)."
   ]
  },
  {
   "cell_type": "code",
   "execution_count": 2,
   "id": "f3e011b5",
   "metadata": {},
   "outputs": [
    {
     "name": "stdout",
     "output_type": "stream",
     "text": [
      "Volume of the sphere with radius 7.0 is 1436.76\n"
     ]
    }
   ],
   "source": [
    "# A program to calculate the volume of a sphere\n",
    "# Import requirements\n",
    "\n",
    "import math\n",
    "\n",
    "# Prompt user for radius\n",
    "r = float(input(\"Enter the radius of the sphere: \"))\n",
    "\n",
    "# Calculate the volume\n",
    "volume = (4/3) * math.pi * (r ** 3)\n",
    "\n",
    "# Print the results\n",
    "print(f\"Volume of the sphere with radius {r} is {volume:.2f}\")\n",
    "\n"
   ]
  },
  {
   "cell_type": "markdown",
   "id": "3975fee6",
   "metadata": {},
   "source": [
    "# 3.Using functions, write a program to compute the area and perimeter of a square. The program should ask the user to enter a number corresponding to the side length of the square and display the area and perimeter of the square.\n"
   ]
  },
  {
   "cell_type": "code",
   "execution_count": 3,
   "id": "dd4c8e17",
   "metadata": {},
   "outputs": [
    {
     "name": "stdout",
     "output_type": "stream",
     "text": [
      "Area of square: 16.0\n",
      "Perimeter of square: 16.0\n"
     ]
    }
   ],
   "source": [
    "# Program to calculate area and perimeter of a square using functions\n",
    "# Declaring area & perimeter functions\n",
    "def area(side):\n",
    "    return side * side\n",
    "\n",
    "def perimeter(side):\n",
    "    return 4 * side\n",
    "\n",
    "# Prompt user for length of one side\n",
    "side_length = float(input(\"Enter the side length of the square: \"))\n",
    "\n",
    "# Printing the results\n",
    "print(f\"Area of square: {area(side_length)}\")\n",
    "print(f\"Perimeter of square: {perimeter(side_length)}\")\n"
   ]
  },
  {
   "cell_type": "markdown",
   "id": "da6986d3",
   "metadata": {},
   "source": [
    "# 4.Write a program using functions that determines whether a character input by a user is uppercase or lower case."
   ]
  },
  {
   "cell_type": "code",
   "execution_count": 5,
   "id": "585dc427",
   "metadata": {},
   "outputs": [
    {
     "name": "stdout",
     "output_type": "stream",
     "text": [
      "The character 'T' is Uppercase\n"
     ]
    }
   ],
   "source": [
    "# A program to check whether a character is uppercase or lowercase\n",
    "def check_case(ch):\n",
    "    if ch.isupper():\n",
    "        return \"Uppercase\"\n",
    "    elif ch.islower():\n",
    "        return \"Lowercase\"\n",
    "    else:\n",
    "        return \"Not a letter\"\n",
    "    \n",
    "# Prompt user for a character\n",
    "char = input(\"Enter a single character: \")\n",
    "\n",
    "# Print the output\n",
    "print(f\"The character '{char}' is {check_case(char)}\")\n"
   ]
  },
  {
   "cell_type": "markdown",
   "id": "da27ae88",
   "metadata": {},
   "source": [
    "# 5.The following is pseudocode for a program being designed. Write the Python program equivalent of the same.\n"
   ]
  },
  {
   "cell_type": "code",
   "execution_count": 6,
   "id": "a3c82192",
   "metadata": {},
   "outputs": [
    {
     "name": "stdout",
     "output_type": "stream",
     "text": [
      "Final value of x: 1.0416666666666665\n"
     ]
    }
   ],
   "source": [
    "# Translation of pseudocode into Python\n",
    "\n",
    "x = 0\n",
    "y = 20\n",
    "\n",
    "# Loop until y < 6\n",
    "while y >= 6:\n",
    "    y = y - 4 \n",
    "    x = x + (2 / y)   \n",
    "\n",
    "# Print the result\n",
    "print(\"Final value of x:\", x)"
   ]
  },
  {
   "cell_type": "markdown",
   "id": "d4b42a1f",
   "metadata": {},
   "source": [
    "# 6.Write a Python program that does the following:\n",
    "#   • Uses a loop for a user to continually input 5 values to populate an array.\n",
    "#   • Calculates and displays the average of the values input into the array.\n"
   ]
  },
  {
   "cell_type": "code",
   "execution_count": 7,
   "id": "1ab75970",
   "metadata": {},
   "outputs": [
    {
     "name": "stdout",
     "output_type": "stream",
     "text": [
      "Values entered: [43.0, 43.0, 45.0, 45.0, 45.0]\n",
      "Average of values: 44.2\n"
     ]
    }
   ],
   "source": [
    "# A program to input 5 values into an array and then calculate average\n",
    "# Declaring an empty list\n",
    "values = []\n",
    "\n",
    "# Using a loop to collect 5 numbers\n",
    "for i in range(5):\n",
    "    num = float(input(f\"Enter value {i+1}: \"))\n",
    "    values.append(num)\n",
    "\n",
    "# Calculating the average\n",
    "average = sum(values) / len(values)\n",
    "\n",
    "# Print the results\n",
    "print(\"Values entered:\", values)\n",
    "print(\"Average of values:\", average)"
   ]
  },
  {
   "cell_type": "markdown",
   "id": "122d17fc",
   "metadata": {},
   "source": [
    "# 7.Data structures challenged attempted using codility\n",
    "\n",
    "![Codility.png](https://drive.google.com/uc?id=1TOwtaf9aiBBlj-50IUSvr4U3ZiN2nCxa)\n"
   ]
  }
 ],
 "metadata": {
  "kernelspec": {
   "display_name": "Python 3",
   "language": "python",
   "name": "python3"
  },
  "language_info": {
   "codemirror_mode": {
    "name": "ipython",
    "version": 3
   },
   "file_extension": ".py",
   "mimetype": "text/x-python",
   "name": "python",
   "nbconvert_exporter": "python",
   "pygments_lexer": "ipython3",
   "version": "3.13.7"
  }
 },
 "nbformat": 4,
 "nbformat_minor": 5
}
